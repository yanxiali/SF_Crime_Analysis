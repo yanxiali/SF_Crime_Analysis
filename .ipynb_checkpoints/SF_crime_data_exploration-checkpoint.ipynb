{
 "cells": [
  {
   "cell_type": "code",
   "execution_count": 0,
   "metadata": {
    "colab": {
     "autoexec": {
      "startup": false,
      "wait_interval": 0
     }
    },
    "colab_type": "code",
    "id": "lxKelKwKM8Yv"
   },
   "outputs": [],
   "source": [
    "sc = spark.sparkContext\n",
    "\n",
    "#dbutils.widgets.text(\"file_location\", \"/uploads/data\", \"Upload Location\")\n",
    "#lines = sc.textfile(\"\")\n",
    "dataPath = \"/FileStore/tables/Police_Department_Incidents.csv\"\n",
    "\n",
    "crimes_df = spark.read.format(\"com.databricks.spark.csv\")\\\n",
    "  .option(\"header\",\"true\")\\\n",
    "  .option(\"inferSchema\", \"true\")\\\n",
    "  .load(dataPath)\n",
    "\n",
    "\n",
    "#To create a table with dataset\n",
    "crimes_df.createOrReplaceTempView(\"crimes\")"
   ]
  },
  {
   "cell_type": "code",
   "execution_count": 0,
   "metadata": {
    "colab": {
     "autoexec": {
      "startup": false,
      "wait_interval": 0
     }
    },
    "colab_type": "code",
    "id": "ddMyDaChM8Yz"
   },
   "outputs": [],
   "source": [
    "display(crimes_df.dtypes)"
   ]
  },
  {
   "cell_type": "code",
   "execution_count": 0,
   "metadata": {
    "colab": {
     "autoexec": {
      "startup": false,
      "wait_interval": 0
     }
    },
    "colab_type": "code",
    "id": "vGXVfhrbM8Y3"
   },
   "outputs": [],
   "source": [
    "display(crimes_df)"
   ]
  },
  {
   "cell_type": "code",
   "execution_count": 0,
   "metadata": {
    "colab": {
     "autoexec": {
      "startup": false,
      "wait_interval": 0
     }
    },
    "colab_type": "code",
    "id": "NyApNJCQM8Y5"
   },
   "outputs": [],
   "source": [
    "# Crime event counts in dataset\n",
    "crimes_df.count()"
   ]
  },
  {
   "cell_type": "code",
   "execution_count": 0,
   "metadata": {
    "colab": {
     "autoexec": {
      "startup": false,
      "wait_interval": 0
     }
    },
    "colab_type": "code",
    "id": "gpGgo2LtM8Y8"
   },
   "outputs": [],
   "source": [
    "%sql\n",
    "\n",
    "-- Q1 - crime counts by category, version 1\n",
    "\n",
    "select category, count(*) from crimes group by 1 order by 2 desc"
   ]
  },
  {
   "cell_type": "code",
   "execution_count": 0,
   "metadata": {
    "colab": {
     "autoexec": {
      "startup": false,
      "wait_interval": 0
     }
    },
    "colab_type": "code",
    "id": "h_M_vALHM8ZA"
   },
   "outputs": [],
   "source": [
    "# Q1 - crime counts by category, version 2 \n",
    "# A way to order by count in display function?\n",
    "\n",
    "crime_by_category = crimes_df.groupBy(\"category\").count()\n",
    "\n",
    "display(crime_by_category)"
   ]
  },
  {
   "cell_type": "code",
   "execution_count": 0,
   "metadata": {
    "colab": {
     "autoexec": {
      "startup": false,
      "wait_interval": 0
     }
    },
    "colab_type": "code",
    "id": "GLrCyRBCM8ZC"
   },
   "outputs": [],
   "source": [
    "%sql\n",
    "\n",
    "-- Q2 - crime counts by district, version 1\n",
    "\n",
    "select PdDistrict, count(*) from crimes group by 1 order by 2 desc"
   ]
  },
  {
   "cell_type": "code",
   "execution_count": 0,
   "metadata": {
    "colab": {
     "autoexec": {
      "startup": false,
      "wait_interval": 0
     }
    },
    "colab_type": "code",
    "id": "cHgIh4FeM8ZF"
   },
   "outputs": [],
   "source": [
    "# Q2 - crime counts by district, version 2 \n",
    "# A way to order by count in display function?\n",
    "\n",
    "crime_by_category = crimes_df.groupBy(\"pddistrict\").count()\n",
    "\n",
    "display(crime_by_category)"
   ]
  },
  {
   "cell_type": "code",
   "execution_count": 0,
   "metadata": {
    "colab": {
     "autoexec": {
      "startup": false,
      "wait_interval": 0
     }
    },
    "colab_type": "code",
    "id": "0eviEjrKM8ZI"
   },
   "outputs": [],
   "source": [
    "%python\n",
    "\n",
    "# Q3, version 1, use python to define a function to calculate distance(Km) between each location and SF downtown center location (latitude, longitude)\n",
    "import math\n",
    "\n",
    "def distance_calculator(lat, lon, target_lat, target_lon):\n",
    "  Radius_earth = 6371.0\n",
    "  Lon_distance = lon - target_lon\n",
    "  Lat_distance = lat - target_lat\n",
    "  Haversine_base = math.sin(Lat_distance / 2)**2 + math.cos(target_lat) * math.cos(lat) * math.sin(Lon_distance / 2)**2\n",
    "  Haversine_secondary = 2 * math.atan2(sqrt(Haversine_Base), math.sqrt(1 - Haversine_Base))\n",
    "  Distance = Radius_earth * Haversine_secondary\n",
    "  return Distance\n",
    "  "
   ]
  },
  {
   "cell_type": "code",
   "execution_count": 0,
   "metadata": {
    "colab": {
     "autoexec": {
      "startup": false,
      "wait_interval": 0
     }
    },
    "colab_type": "code",
    "id": "ylMe2dLkM8ZM"
   },
   "outputs": [],
   "source": [
    "crimes_df_with_distance = crimes_df.select('*', distance_calculator(crimes_df.Y, crimes_df.X, 37.773972, -122.431297).alias('Distance'))\n",
    "display(crimes_df_with_distance)"
   ]
  },
  {
   "cell_type": "code",
   "execution_count": 0,
   "metadata": {
    "colab": {
     "autoexec": {
      "startup": false,
      "wait_interval": 0
     }
    },
    "colab_type": "code",
    "id": "zIVDNLJ0M8ZP"
   },
   "outputs": [],
   "source": [
    "%scala\n",
    "\n",
    "\n",
    "case class Location(lat: Double, lon: Double)\n",
    "trait DistanceCalcular {\n",
    "    def calculateDistanceInKilometer(userLocation: Location, warehouseLocation: Location): Int\n",
    "}\n",
    "class DistanceCalculatorImpl extends DistanceCalcular {\n",
    "    private val AVERAGE_RADIUS_OF_EARTH_KM = 6371\n",
    "    override def calculateDistanceInKilometer(userLocation: Location, warehouseLocation: Location): Int = {\n",
    "        val latDistance = Math.toRadians(userLocation.lat - warehouseLocation.lat)\n",
    "        val lngDistance = Math.toRadians(userLocation.lon - warehouseLocation.lon)\n",
    "        val sinLat = Math.sin(latDistance / 2)\n",
    "        val sinLng = Math.sin(lngDistance / 2)\n",
    "        val a = sinLat * sinLat +\n",
    "        (Math.cos(Math.toRadians(userLocation.lat)) *\n",
    "            Math.cos(Math.toRadians(warehouseLocation.lat)) *\n",
    "            sinLng * sinLng)\n",
    "        val c = 2 * Math.atan2(Math.sqrt(a), Math.sqrt(1 - a))\n",
    "        (AVERAGE_RADIUS_OF_EARTH_KM * c).toInt\n",
    "    }\n",
    "}\n"
   ]
  },
  {
   "cell_type": "code",
   "execution_count": 0,
   "metadata": {
    "colab": {
     "autoexec": {
      "startup": false,
      "wait_interval": 0
     }
    },
    "colab_type": "code",
    "id": "lT_dkK4tM8ZS"
   },
   "outputs": [],
   "source": [
    "crimes_df_with_distance = crimes_df.select('*', DistanceCalculatorImpl().calculateDistanceInKilometer(crimes_df.Location, Location(37.773972, -122.431297)).alias(\"Distance\"))"
   ]
  },
  {
   "cell_type": "code",
   "execution_count": 0,
   "metadata": {
    "colab": {
     "autoexec": {
      "startup": false,
      "wait_interval": 0
     }
    },
    "colab_type": "code",
    "id": "TAcLLWQwM8ZV"
   },
   "outputs": [],
   "source": [
    "%sql\n",
    "\n",
    "-- Q3 - crime counts each Sunday at SF downtown (defined as a circle area with radius = 10km)\n",
    "\n",
    "drop view if exists Sunday_crimes;\n",
    "create temp view Sunday_crimes as\n",
    "select *, 2 * asin(\n",
    "      sqrt(\n",
    "        cos(radians(Y)) *\n",
    "        cos(radians(37.773972)) *\n",
    "        pow(sin(radians((X + 122.431297)/2)), 2)\n",
    "            +\n",
    "        pow(sin(radians((Y - 37.773972)/2)), 2)\n",
    "\n",
    "      )\n",
    "    ) * 6371 distance_km from crimes where DayOfWeek = \"Sunday\";\n",
    "\n",
    "\n",
    "select date, count(*) from Sunday_crimes where distance_km < 10 group by 1 order by 2 desc\n"
   ]
  }
 ],
 "metadata": {
  "colab": {
   "default_view": {},
   "name": "SF_crime_data_exploration.ipynb",
   "provenance": [],
   "version": "0.3.2",
   "views": {}
  },
  "kernelspec": {
   "display_name": "Python 3",
   "language": "python",
   "name": "python3"
  },
  "language_info": {
   "codemirror_mode": {
    "name": "ipython",
    "version": 3
   },
   "file_extension": ".py",
   "mimetype": "text/x-python",
   "name": "python",
   "nbconvert_exporter": "python",
   "pygments_lexer": "ipython3",
   "version": "3.6.5"
  }
 },
 "nbformat": 4,
 "nbformat_minor": 1
}
