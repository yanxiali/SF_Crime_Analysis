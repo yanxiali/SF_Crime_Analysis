{
 "cells": [
  {
   "cell_type": "code",
   "execution_count": 0,
   "metadata": {
    "colab": {
     "autoexec": {
      "startup": false,
      "wait_interval": 0
     }
    },
    "colab_type": "code",
    "id": "ahrFaQ3gqgf7",
    "outputId": "7b768175-64f4-440a-fa31-807e3514a2e2"
   },
   "outputs": [
    {
     "ename": "ValueError",
     "evalue": "Cannot run multiple SparkContexts at once; existing SparkContext(app=PySparkShell, master=local[*]) created by <module> at /Users/mike/anaconda2/lib/python2.7/site-packages/IPython/utils/py3compat.py:289 ",
     "output_type": "error",
     "traceback": [
      "\u001b[0;31m---------------------------------------------------------------------------\u001b[0m",
      "\u001b[0;31mValueError\u001b[0m                                Traceback (most recent call last)",
      "\u001b[0;32m<ipython-input-1-fcfa3c164505>\u001b[0m in \u001b[0;36m<module>\u001b[0;34m()\u001b[0m\n\u001b[1;32m      1\u001b[0m \u001b[0;31m# spark env\u001b[0m\u001b[0;34m\u001b[0m\u001b[0;34m\u001b[0m\u001b[0m\n\u001b[1;32m      2\u001b[0m \u001b[0;32mimport\u001b[0m \u001b[0mpyspark\u001b[0m\u001b[0;34m\u001b[0m\u001b[0m\n\u001b[0;32m----> 3\u001b[0;31m \u001b[0msc\u001b[0m \u001b[0;34m=\u001b[0m \u001b[0mpyspark\u001b[0m\u001b[0;34m.\u001b[0m\u001b[0mSparkContext\u001b[0m\u001b[0;34m(\u001b[0m\u001b[0;34m)\u001b[0m\u001b[0;34m\u001b[0m\u001b[0m\n\u001b[0m",
      "\u001b[0;32m/Users/mike/Dev/spark-examples/spark-2.2.0-bin-hadoop2.7/python/pyspark/context.pyc\u001b[0m in \u001b[0;36m__init__\u001b[0;34m(self, master, appName, sparkHome, pyFiles, environment, batchSize, serializer, conf, gateway, jsc, profiler_cls)\u001b[0m\n\u001b[1;32m    113\u001b[0m         \"\"\"\n\u001b[1;32m    114\u001b[0m         \u001b[0mself\u001b[0m\u001b[0;34m.\u001b[0m\u001b[0m_callsite\u001b[0m \u001b[0;34m=\u001b[0m \u001b[0mfirst_spark_call\u001b[0m\u001b[0;34m(\u001b[0m\u001b[0;34m)\u001b[0m \u001b[0;32mor\u001b[0m \u001b[0mCallSite\u001b[0m\u001b[0;34m(\u001b[0m\u001b[0mNone\u001b[0m\u001b[0;34m,\u001b[0m \u001b[0mNone\u001b[0m\u001b[0;34m,\u001b[0m \u001b[0mNone\u001b[0m\u001b[0;34m)\u001b[0m\u001b[0;34m\u001b[0m\u001b[0m\n\u001b[0;32m--> 115\u001b[0;31m         \u001b[0mSparkContext\u001b[0m\u001b[0;34m.\u001b[0m\u001b[0m_ensure_initialized\u001b[0m\u001b[0;34m(\u001b[0m\u001b[0mself\u001b[0m\u001b[0;34m,\u001b[0m \u001b[0mgateway\u001b[0m\u001b[0;34m=\u001b[0m\u001b[0mgateway\u001b[0m\u001b[0;34m,\u001b[0m \u001b[0mconf\u001b[0m\u001b[0;34m=\u001b[0m\u001b[0mconf\u001b[0m\u001b[0;34m)\u001b[0m\u001b[0;34m\u001b[0m\u001b[0m\n\u001b[0m\u001b[1;32m    116\u001b[0m         \u001b[0;32mtry\u001b[0m\u001b[0;34m:\u001b[0m\u001b[0;34m\u001b[0m\u001b[0m\n\u001b[1;32m    117\u001b[0m             self._do_init(master, appName, sparkHome, pyFiles, environment, batchSize, serializer,\n",
      "\u001b[0;32m/Users/mike/Dev/spark-examples/spark-2.2.0-bin-hadoop2.7/python/pyspark/context.pyc\u001b[0m in \u001b[0;36m_ensure_initialized\u001b[0;34m(cls, instance, gateway, conf)\u001b[0m\n\u001b[1;32m    297\u001b[0m                         \u001b[0;34m\" created by %s at %s:%s \"\u001b[0m\u001b[0;34m\u001b[0m\u001b[0m\n\u001b[1;32m    298\u001b[0m                         % (currentAppName, currentMaster,\n\u001b[0;32m--> 299\u001b[0;31m                             callsite.function, callsite.file, callsite.linenum))\n\u001b[0m\u001b[1;32m    300\u001b[0m                 \u001b[0;32melse\u001b[0m\u001b[0;34m:\u001b[0m\u001b[0;34m\u001b[0m\u001b[0m\n\u001b[1;32m    301\u001b[0m                     \u001b[0mSparkContext\u001b[0m\u001b[0;34m.\u001b[0m\u001b[0m_active_spark_context\u001b[0m \u001b[0;34m=\u001b[0m \u001b[0minstance\u001b[0m\u001b[0;34m\u001b[0m\u001b[0m\n",
      "\u001b[0;31mValueError\u001b[0m: Cannot run multiple SparkContexts at once; existing SparkContext(app=PySparkShell, master=local[*]) created by <module> at /Users/mike/anaconda2/lib/python2.7/site-packages/IPython/utils/py3compat.py:289 "
     ]
    }
   ],
   "source": [
    "# spark env"
   ]
  },
  {
   "cell_type": "code",
   "execution_count": 0,
   "metadata": {
    "colab": {
     "autoexec": {
      "startup": false,
      "wait_interval": 0
     }
    },
    "colab_type": "code",
    "id": "nLtwLvLjqggD"
   },
   "outputs": [],
   "source": [
    "from csv import reader"
   ]
  },
  {
   "cell_type": "code",
   "execution_count": 0,
   "metadata": {
    "colab": {
     "autoexec": {
      "startup": false,
      "wait_interval": 0
     }
    },
    "colab_type": "code",
    "id": "QIKqZSHQqggH"
   },
   "outputs": [],
   "source": [
    "# read data\n",
    "crime_data_lines = sc.textFile('sf_data.csv')"
   ]
  },
  {
   "cell_type": "code",
   "execution_count": 0,
   "metadata": {
    "colab": {
     "autoexec": {
      "startup": false,
      "wait_interval": 0
     }
    },
    "colab_type": "code",
    "id": "9ZsgMu1cqggK"
   },
   "outputs": [],
   "source": [
    "df_crimes = crime_data_lines.map(lambda line: [x.strip('\"') for x in next(reader([line]))])"
   ]
  },
  {
   "cell_type": "code",
   "execution_count": 0,
   "metadata": {
    "colab": {
     "autoexec": {
      "startup": false,
      "wait_interval": 0
     }
    },
    "colab_type": "code",
    "id": "ba1GdH25qggN",
    "outputId": "6304398a-03eb-427c-d91d-07bde509e684"
   },
   "outputs": [
    {
     "data": {
      "text/plain": [
       "['IncidntNum',\n",
       " 'Category',\n",
       " 'Descript',\n",
       " 'DayOfWeek',\n",
       " 'Date',\n",
       " 'Time',\n",
       " 'PdDistrict',\n",
       " 'Resolution',\n",
       " 'Address',\n",
       " 'X',\n",
       " 'Y',\n",
       " 'Location',\n",
       " 'PdId']"
      ]
     },
     "execution_count": 10,
     "metadata": {
      "tags": []
     },
     "output_type": "execute_result"
    }
   ],
   "source": [
    "header = df_crimes.first()\n",
    "header"
   ]
  },
  {
   "cell_type": "code",
   "execution_count": 0,
   "metadata": {
    "colab": {
     "autoexec": {
      "startup": false,
      "wait_interval": 0
     }
    },
    "colab_type": "code",
    "id": "1lP8eZT9qggS",
    "outputId": "eec710ed-30b4-4b20-e663-c6107d55428f"
   },
   "outputs": [
    {
     "data": {
      "text/plain": [
       "[['170572642',\n",
       "  'OTHER OFFENSES',\n",
       "  'FRAUDULENT GAME OR TRICK, OBTAINING MONEY OR PROPERTY',\n",
       "  'Tuesday',\n",
       "  '07/11/2017',\n",
       "  '14:36',\n",
       "  'RICHMOND',\n",
       "  'NONE',\n",
       "  '3900 Block of SACRAMENTO ST',\n",
       "  '-122.458076960061',\n",
       "  '37.7867186152365',\n",
       "  '(37.7867186152365, -122.458076960061)',\n",
       "  '17057264209024'],\n",
       " ['170572404',\n",
       "  'VEHICLE THEFT',\n",
       "  'STOLEN TRUCK',\n",
       "  'Tuesday',\n",
       "  '07/11/2017',\n",
       "  '10:00',\n",
       "  'RICHMOND',\n",
       "  'NONE',\n",
       "  '2500 Block of CABRILLO ST',\n",
       "  '-122.48593925584',\n",
       "  '37.7743079441979',\n",
       "  '(37.7743079441979, -122.48593925584)',\n",
       "  '17057240407025']]"
      ]
     },
     "execution_count": 11,
     "metadata": {
      "tags": []
     },
     "output_type": "execute_result"
    }
   ],
   "source": [
    "## Extract header\n",
    "crimes = df_crimes.filter(lambda x: x != header)\n",
    "crimes.take(1)\n",
    "crimes.take(2)"
   ]
  },
  {
   "cell_type": "code",
   "execution_count": 0,
   "metadata": {
    "colab": {
     "autoexec": {
      "startup": false,
      "wait_interval": 0
     }
    },
    "colab_type": "code",
    "id": "F905dtY4qggX"
   },
   "outputs": [],
   "source": [
    "# First question: Write a Spark program that counts the number of crimes for different category.\n",
    "#group by\n"
   ]
  },
  {
   "cell_type": "code",
   "execution_count": 0,
   "metadata": {
    "colab": {
     "autoexec": {
      "startup": false,
      "wait_interval": 0
     }
    },
    "colab_type": "code",
    "id": "XKp3qlgjqgga",
    "outputId": "f3acfc43-8df7-4a15-d473-368da77f12aa"
   },
   "outputs": [
    {
     "data": {
      "text/plain": [
       "[('LARCENY/THEFT', 613),\n",
       " ('OTHER OFFENSES', 230),\n",
       " ('NON-CRIMINAL', 200),\n",
       " ('ASSAULT', 174),\n",
       " ('VANDALISM', 142),\n",
       " ('VEHICLE THEFT', 86),\n",
       " ('WARRANTS', 86),\n",
       " ('BURGLARY', 73),\n",
       " ('SUSPICIOUS OCC', 70),\n",
       " ('MISSING PERSON', 48),\n",
       " ('DRUG/NARCOTIC', 42),\n",
       " ('ROBBERY', 35),\n",
       " ('FRAUD', 31),\n",
       " ('TRESPASS', 27),\n",
       " ('SECONDARY CODES', 25),\n",
       " ('WEAPON LAWS', 23),\n",
       " ('RUNAWAY', 14),\n",
       " ('STOLEN PROPERTY', 12),\n",
       " ('PROSTITUTION', 11),\n",
       " ('SEX OFFENSES, FORCIBLE', 7),\n",
       " ('FORGERY/COUNTERFEITING', 7),\n",
       " ('RECOVERED VEHICLE', 4),\n",
       " ('ARSON', 4),\n",
       " ('DRUNKENNESS', 4),\n",
       " ('DRIVING UNDER THE INFLUENCE', 3),\n",
       " ('LOITERING', 2),\n",
       " ('KIDNAPPING', 2),\n",
       " ('BRIBERY', 1),\n",
       " ('SEX OFFENSES, NON FORCIBLE', 1),\n",
       " ('DISORDERLY CONDUCT', 1),\n",
       " ('SUICIDE', 1)]"
      ]
     },
     "execution_count": 8,
     "metadata": {
      "tags": []
     },
     "output_type": "execute_result"
    }
   ],
   "source": []
  },
  {
   "cell_type": "code",
   "execution_count": 0,
   "metadata": {
    "colab": {
     "autoexec": {
      "startup": false,
      "wait_interval": 0
     }
    },
    "colab_type": "code",
    "id": "mhJrWbbNqggd"
   },
   "outputs": [],
   "source": [
    "#Question2 : Write a program that counts the number of crimes for different district¶\n"
   ]
  },
  {
   "cell_type": "code",
   "execution_count": 0,
   "metadata": {
    "colab": {
     "autoexec": {
      "startup": false,
      "wait_interval": 0
     }
    },
    "colab_type": "code",
    "id": "F0b2TNRAqggh",
    "outputId": "49dcae47-615b-4db8-efe0-030c711e9e01"
   },
   "outputs": [
    {
     "data": {
      "text/plain": [
       "[('SOUTHERN', 377),\n",
       " ('NORTHERN', 261),\n",
       " ('MISSION', 258),\n",
       " ('CENTRAL', 243),\n",
       " ('BAYVIEW', 150),\n",
       " ('TARAVAL', 149),\n",
       " ('RICHMOND', 141),\n",
       " ('PARK', 140),\n",
       " ('INGLESIDE', 139),\n",
       " ('TENDERLOIN', 121)]"
      ]
     },
     "execution_count": 11,
     "metadata": {
      "tags": []
     },
     "output_type": "execute_result"
    }
   ],
   "source": []
  },
  {
   "cell_type": "code",
   "execution_count": 0,
   "metadata": {
    "colab": {
     "autoexec": {
      "startup": false,
      "wait_interval": 0
     }
    },
    "colab_type": "code",
    "id": "0fnQOJIMqggl"
   },
   "outputs": [],
   "source": [
    "#Question3: Write a program to count the number of crimes each Sunday at SF downtown.\n"
   ]
  },
  {
   "cell_type": "code",
   "execution_count": 0,
   "metadata": {
    "colab": {
     "autoexec": {
      "startup": false,
      "wait_interval": 0
     }
    },
    "colab_type": "code",
    "id": "Od7CqoFDqggq"
   },
   "outputs": [],
   "source": []
  },
  {
   "cell_type": "code",
   "execution_count": 0,
   "metadata": {
    "colab": {
     "autoexec": {
      "startup": false,
      "wait_interval": 0
     }
    },
    "colab_type": "code",
    "id": "yjQHCfq1qggt",
    "outputId": "ef40345c-aec1-4c2e-c215-7472d31ab615"
   },
   "outputs": [
    {
     "name": "stdout",
     "output_type": "stream",
     "text": [
      "+----+--------+\n",
      "|Date|count(1)|\n",
      "+----+--------+\n",
      "+----+--------+\n",
      "\n"
     ]
    }
   ],
   "source": []
  },
  {
   "cell_type": "code",
   "execution_count": 0,
   "metadata": {
    "colab": {
     "autoexec": {
      "startup": false,
      "wait_interval": 0
     }
    },
    "colab_type": "code",
    "id": "tEzctGD0qggy",
    "outputId": "834eb49c-6570-499a-e82e-3eff75fa5977"
   },
   "outputs": [
    {
     "name": "stdout",
     "output_type": "stream",
     "text": [
      "+----+---------+-----+\n",
      "|Date|DayOfWeek|count|\n",
      "+----+---------+-----+\n",
      "+----+---------+-----+\n",
      "\n"
     ]
    }
   ],
   "source": []
  },
  {
   "cell_type": "code",
   "execution_count": 0,
   "metadata": {
    "colab": {
     "autoexec": {
      "startup": false,
      "wait_interval": 0
     }
    },
    "colab_type": "code",
    "id": "0o_KWURIqgg1"
   },
   "outputs": [],
   "source": []
  }
 ],
 "metadata": {
  "colab": {
   "default_view": {},
   "name": "spark_hw1_2.ipynb",
   "provenance": [],
   "version": "0.3.2",
   "views": {}
  },
  "kernelspec": {
   "display_name": "Python 3",
   "language": "python",
   "name": "python3"
  },
  "language_info": {
   "codemirror_mode": {
    "name": "ipython",
    "version": 3
   },
   "file_extension": ".py",
   "mimetype": "text/x-python",
   "name": "python",
   "nbconvert_exporter": "python",
   "pygments_lexer": "ipython3",
   "version": "3.6.5"
  }
 },
 "nbformat": 4,
 "nbformat_minor": 1
}
